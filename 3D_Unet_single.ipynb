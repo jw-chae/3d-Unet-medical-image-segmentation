{
  "cells": [
    {
      "cell_type": "code",
      "execution_count": 1,
      "metadata": {
        "id": "ZNd4nlENQdMv"
      },
      "outputs": [],
      "source": [
        "#This code uses 3D Unet to train a network on 3D subvolumes (64x64x64).\n",
        "#It also segments a large volume and outputs a multidimensional OMETIFF file\n",
        "#Custom dataset is used for this code but it should work on any dataset, including BRATS."
      ]
    },
    {
      "cell_type": "code",
      "execution_count": 2,
      "metadata": {
        "colab": {
          "base_uri": "https://localhost:8080/"
        },
        "id": "Rq5w1RBvxEM7",
        "outputId": "1bef00c9-618c-422e-effe-ba0a7e0a4b60"
      },
      "outputs": [
        {
          "name": "stdout",
          "output_type": "stream",
          "text": [
            "\u001b[0m\u001b[01;34m3DUnetCNN\u001b[0m/                                   resize.ipynb\n",
            "3D_Unet_ipynb.ipynb                          resize_patch.ipynb\n",
            "3D_Unet_ipynb.ipynb:Zone.Identifier          \u001b[01;34mresult\u001b[0m/\n",
            "3D_Unet_nulti.ipynb                          \u001b[01;34mresult_image\u001b[0m/\n",
            "\u001b[01;34mLiver-Segmentation-Using-Monai-and-PyTorch\u001b[0m/  \u001b[01;34msandstone_data_for_ML\u001b[0m/\n",
            "\u001b[01;34mdataset\u001b[0m/                                     \u001b[01;31msandstone_data_for_ML.zip\u001b[0m\n",
            "\u001b[01;34mmri_segment\u001b[0m/                                 tutorial122_3D_Unet.ipynb\n"
          ]
        }
      ],
      "source": [
        "ls"
      ]
    },
    {
      "cell_type": "code",
      "execution_count": 3,
      "metadata": {
        "colab": {
          "base_uri": "https://localhost:8080/"
        },
        "id": "0svPshCfmK46",
        "outputId": "235683d0-3e66-41b8-c675-9316f6a87d72"
      },
      "outputs": [],
      "source": [
        "# Latest Tensorflow (2.4) is giving error for some of the libraries we will be using,\n",
        "# especially segmentation models 3D.\n",
        "# Therefore, I am defining TF version 1.x.\n",
        "# If you have your own 3D unet model, you can try the latest TF version.\n",
        "!pip install tensorflow==2.8.4\n",
        "#%tensorflow_version 2.x\n",
        "!pip install tensorflow==2.13.0\n"
      ]
    },
    {
      "cell_type": "code",
      "execution_count": 4,
      "metadata": {
        "colab": {
          "base_uri": "https://localhost:8080/"
        },
        "id": "_NO5zXt_Lv6Y",
        "outputId": "cf3fb7a8-7f9a-4f42-e299-74485fc62314"
      },
      "outputs": [],
      "source": [
        "#Install all dependencies for sgementation-models-3D library.\n",
        "#We will use this library to call 3D unet.\n",
        "#Alternative, you can define your own Unet, if you have skills!\n",
        "#!pip install classification-models-3D\n",
        "#!pip install efficientnet-3D\n",
        "#!pip install segmentation-models-3D"
      ]
    },
    {
      "cell_type": "code",
      "execution_count": 5,
      "metadata": {
        "colab": {
          "base_uri": "https://localhost:8080/"
        },
        "id": "DFJYJc1p_LRy",
        "outputId": "76b8edef-cf45-4fe0-c7a7-d60bbd8dc09b"
      },
      "outputs": [],
      "source": [
        "#Use patchify to break large volumes into smaller for training\n",
        "#and also to put patches back together after prediction.\n",
        "#!pip install patchify"
      ]
    },
    {
      "cell_type": "code",
      "execution_count": 6,
      "metadata": {
        "colab": {
          "base_uri": "https://localhost:8080/"
        },
        "id": "foXdS4Uil4WP",
        "outputId": "e8c821d4-1d3c-4d38-d006-b1362cc68bcb"
      },
      "outputs": [
        {
          "name": "stdout",
          "output_type": "stream",
          "text": [
            "2.8.0\n",
            "2.8.0\n"
          ]
        }
      ],
      "source": [
        "import tensorflow as tf\n",
        "#import tensorflow.python.keras as keras\n",
        "import keras\n",
        "print(tf.__version__)\n",
        "print(keras.__version__)"
      ]
    },
    {
      "cell_type": "code",
      "execution_count": 7,
      "metadata": {
        "colab": {
          "base_uri": "https://localhost:8080/"
        },
        "id": "45aZsgManbdG",
        "outputId": "ca3d4c36-9d4a-42e4-ba1c-f4465318c018"
      },
      "outputs": [
        {
          "name": "stdout",
          "output_type": "stream",
          "text": [
            "Found GPU at: /device:GPU:0\n"
          ]
        }
      ],
      "source": [
        "#Make sure the GPU is available.\n",
        "import tensorflow as tf\n",
        "device_name = tf.test.gpu_device_name()\n",
        "if device_name != '/device:GPU:0':\n",
        "  raise SystemError('GPU device not found')\n",
        "print('Found GPU at: {}'.format(device_name))"
      ]
    },
    {
      "cell_type": "code",
      "execution_count": 8,
      "metadata": {
        "colab": {
          "base_uri": "https://localhost:8080/"
        },
        "id": "Dr4Is2DRMMer",
        "outputId": "7867f2a9-9ca7-43f6-92f9-8816ca4b8244"
      },
      "outputs": [
        {
          "name": "stdout",
          "output_type": "stream",
          "text": [
            "Segmentation Models: using `tf.keras` framework.\n"
          ]
        }
      ],
      "source": [
        "import segmentation_models_3D as sm\n"
      ]
    },
    {
      "cell_type": "code",
      "execution_count": 9,
      "metadata": {
        "id": "d7hKivzw-0V9"
      },
      "outputs": [],
      "source": [
        "from skimage import io\n",
        "from patchify import patchify, unpatchify\n",
        "import numpy as np\n",
        "from matplotlib import pyplot as plt\n",
        "from tensorflow.keras import backend as K\n",
        "from tensorflow.keras.utils import to_categorical\n",
        "from sklearn.model_selection import train_test_split\n"
      ]
    },
    {
      "cell_type": "code",
      "execution_count": 10,
      "metadata": {
        "id": "A3Fo6ZIvxzZG"
      },
      "outputs": [],
      "source": [
        "#!mv /content/sandstone_data_for_ML /content/drive/MyDrive/\n"
      ]
    },
    {
      "cell_type": "code",
      "execution_count": 11,
      "metadata": {
        "id": "HWZiqrMK-kVb"
      },
      "outputs": [
        {
          "name": "stdout",
          "output_type": "stream",
          "text": [
            "imageshpae:  (512, 512, 160)\n",
            "masksize:  (512, 512, 160)\n",
            "Number of patches: (8, 8, 2, 64, 64, 64)\n"
          ]
        }
      ],
      "source": [
        "import nibabel as nib\n",
        "#Load input images and masks.\n",
        "#Here we load 256x256x256 pixel volume. We will break it into patches of 64x64x64 for training.\n",
        "patch_size = 64\n",
        "stepsize=64\n",
        "image_path = '/home/chae/segmentation/dataset/mr_train/mr_train_1001_image.nii.gz'\n",
        "image_obj = nib.load(image_path)\n",
        "image_data = image_obj.get_fdata()\n",
        "print(\"imageshpae: \",image_data.shape)\n",
        "img_patches = patchify(image_data, (patch_size,patch_size,patch_size), step=stepsize)  #Step=64 for 64 patches means no overlap\n",
        "mask_path = '/home/chae/segmentation/dataset/mr_train/mr_train_1001_label.nii.gz'\n",
        "mask_obj = nib.load(mask_path)\n",
        "mask_data = mask_obj.get_fdata()\n",
        "print(\"masksize: \",mask_data.shape)\n",
        "\n",
        "mask_patches = patchify(mask_data, (patch_size,patch_size,patch_size), step=stepsize)\n",
        "print(\"Number of patches:\", img_patches.shape)\n"
      ]
    },
    {
      "cell_type": "code",
      "execution_count": 12,
      "metadata": {},
      "outputs": [],
      "source": [
        "# from scipy.ndimage import zoom\n",
        "\n",
        "# # 원본 이미지 데이터: image_data\n",
        "# # 다운사이징 비율\n",
        "# scale = 0.5  # 예시로 50% 축소\n",
        "\n",
        "# # 이미지 다운사이징\n",
        "# downsized_image_data = zoom(image_data, (scale, scale, scale))\n",
        "# downsized_mask_data = zoom(mask_data, (scale, scale, scale), order=0)\n",
        "\n",
        "# # 결과 확인\n",
        "# print(\"Original shape:\", image_data.shape)\n",
        "# print(\"Downsized shape:\", downsized_image_data.shape)\n"
      ]
    },
    {
      "cell_type": "code",
      "execution_count": 13,
      "metadata": {},
      "outputs": [],
      "source": [
        "# image_data = downsized_image_data\n",
        "# mask_data = downsized_mask_data "
      ]
    },
    {
      "cell_type": "code",
      "execution_count": 14,
      "metadata": {
        "colab": {
          "base_uri": "https://localhost:8080/",
          "height": 450
        },
        "id": "A8a8BumA_qpa",
        "outputId": "21307f18-cbf2-421d-fe1d-a22934e8911f"
      },
      "outputs": [],
      "source": [
        "#plt.imshow(img_patches[1,2,3,:,:,32])\n",
        "# 예를 들어 4개의 패치를 표시하고자 할 때\n",
        "#fig, axs = plt.subplots(2, 2) # 2x2 그리드로 서브플롯 생성\n",
        "\n",
        "# 첫 번째 서브플롯\n",
        "# axs[0, 0].imshow(mask_patches[13,15,5,:,:,32])\n",
        "# axs[0, 0].set_title('Patch 0,0,0')\n",
        "\n",
        "# # 두 번째 서브플롯\n",
        "# axs[0, 1].imshow(mask_patches[3,10,0,:,:,32])\n",
        "# axs[0, 1].set_title('Patch 0,1,0')\n",
        "\n",
        "# # 세 번째 서브플롯\n",
        "# axs[1, 0].imshow(mask_patches[4,0,0,:,:,32])\n",
        "# axs[1, 0].set_title('Patch 1,0,0')\n",
        "\n",
        "# # 네 번째 서브플롯\n",
        "# axs[1, 1].imshow(mask_patches[5,1,0,:,:,32])\n",
        "# axs[1, 1].set_title('Patch 1,1,0')\n",
        "\n",
        "# # 전체 레이아웃 조정\n",
        "# plt.tight_layout()\n",
        "# plt.show()\n"
      ]
    },
    {
      "cell_type": "code",
      "execution_count": 15,
      "metadata": {
        "colab": {
          "base_uri": "https://localhost:8080/"
        },
        "id": "K08wiQ0y-ogu",
        "outputId": "14f8dfcc-e32a-402b-e66a-832c366437e7"
      },
      "outputs": [
        {
          "name": "stdout",
          "output_type": "stream",
          "text": [
            "(128, 64, 64, 64)\n"
          ]
        }
      ],
      "source": [
        "\n",
        "input_img = np.reshape(img_patches, (-1, img_patches.shape[3], img_patches.shape[4], img_patches.shape[5]))\n",
        "input_mask = np.reshape(mask_patches, (-1, mask_patches.shape[3], mask_patches.shape[4], mask_patches.shape[5]))\n",
        "\n",
        "print(input_img.shape)  # n_patches, x, y, z\n",
        "\n"
      ]
    },
    {
      "cell_type": "code",
      "execution_count": 16,
      "metadata": {
        "colab": {
          "base_uri": "https://localhost:8080/"
        },
        "id": "_5b-JoX30_Kt",
        "outputId": "8a14aaee-5d2b-4a0c-f259-d859525c1865"
      },
      "outputs": [
        {
          "name": "stdout",
          "output_type": "stream",
          "text": [
            "(8, 8, 2, 64, 64, 64)\n"
          ]
        }
      ],
      "source": [
        "print(img_patches.shape)"
      ]
    },
    {
      "cell_type": "code",
      "execution_count": 17,
      "metadata": {},
      "outputs": [
        {
          "name": "stdout",
          "output_type": "stream",
          "text": [
            "[  0. 205. 420. 500. 550. 600. 820. 850.]\n"
          ]
        }
      ],
      "source": [
        "train_img = np.stack((input_img,)*3, axis=-1)\n",
        "train_mask = np.expand_dims(input_mask, axis=4)\n",
        "unique_values = np.unique(train_mask)\n",
        "print(unique_values)\n"
      ]
    },
    {
      "cell_type": "code",
      "execution_count": 18,
      "metadata": {},
      "outputs": [
        {
          "name": "stdout",
          "output_type": "stream",
          "text": [
            "[0 1 2 3 4 5 6 7]\n"
          ]
        }
      ],
      "source": [
        "def remap_label(label):\n",
        "    # 0 레이블을 제외한 나머지 레이블 매핑\n",
        "    label_mapping = {0:0 , 205: 1, 420: 2, 500: 3, 550: 4, 600: 5, 820: 6, 850: 7}\n",
        "    return label_mapping.get(label, -1)  # 존재하지 않는 레이블은 -1로 처리\n",
        "\n",
        "# train_mask의 모든 요소에 대해 remap_label 함수 적용\n",
        "train_mask_remap = np.vectorize(remap_label)(train_mask)\n",
        "\n",
        "# 새로운 레이블 값 확인\n",
        "# -1 값을 제외하고 unique 값을 찾기\n",
        "unique_values_remap = np.unique(train_mask_remap[train_mask_remap != -1])\n",
        "print(unique_values_remap)\n",
        "\n"
      ]
    },
    {
      "cell_type": "code",
      "execution_count": 19,
      "metadata": {
        "id": "av8BBXU0-rdw"
      },
      "outputs": [],
      "source": [
        "#Convert grey image to 3 channels by copying channel 3 times.\n",
        "#We do this as our unet model expects 3 channel input.\n",
        "\n",
        "# train_img = np.stack((input_img,)*3, axis=-1)\n",
        "# train_mask = np.expand_dims(input_mask, axis=4)\n",
        "# unique_values = np.unique(train_mask)\n",
        "# print(unique_values)\n",
        "n_classes = 8\n",
        "\n",
        "train_mask_cat = to_categorical(train_mask_remap, num_classes=n_classes)\n",
        "\n",
        "\n",
        "X_train, X_test, y_train, y_test = train_test_split(train_img, train_mask_cat, test_size = 0.20, random_state = 0)\n",
        "\n"
      ]
    },
    {
      "cell_type": "code",
      "execution_count": 20,
      "metadata": {
        "id": "Higavd5lmj6A"
      },
      "outputs": [],
      "source": [
        "\n",
        "# Loss Function and coefficients to be used during training:\n",
        "def dice_coefficient(y_true, y_pred):\n",
        "    smoothing_factor = 1\n",
        "    flat_y_true = K.flatten(y_true)\n",
        "    flat_y_pred = K.flatten(y_pred)\n",
        "    return (2. * K.sum(flat_y_true * flat_y_pred) + smoothing_factor) / (K.sum(flat_y_true) + K.sum(flat_y_pred) + smoothing_factor)\n",
        "\n",
        "def dice_coefficient_loss(y_true, y_pred):\n",
        "    return 1 - dice_coefficient(y_true, y_pred)\n"
      ]
    },
    {
      "cell_type": "markdown",
      "metadata": {
        "id": "wh0P2o-kQwSK"
      },
      "source": [
        "Backbones: ['resnet18', 'resnet34', 'resnet50', 'resnet101', 'resnet152', 'seresnet18', 'seresnet34', 'seresnet50', 'seresnet101', 'seresnet152', 'seresnext50', 'seresnext101', 'senet154', 'resnext50', 'resnext101', 'vgg16', 'vgg19', 'densenet121', 'densenet169', 'densenet201', 'inceptionresnetv2', 'inceptionv3', 'mobilenet', 'mobilenetv2', 'efficientnetb0', 'efficientnetb1', 'efficientnetb2', 'efficientnetb3', 'efficientnetb4', 'efficientnetb5', 'efficientnetb6', 'efficientnetb7']"
      ]
    },
    {
      "cell_type": "code",
      "execution_count": 21,
      "metadata": {
        "id": "mWiQsv6IqGGF"
      },
      "outputs": [],
      "source": [
        "#Define parameters for our model.\n",
        "\n",
        "encoder_weights = 'imagenet'\n",
        "BACKBONE = 'vgg16'  #Try vgg16, efficientnetb7, inceptionv3, resnet50\n",
        "activation = 'softmax'\n",
        "#patch_size = 64\n",
        "channels=3\n",
        "import tensorflow as tf\n",
        "\n",
        "LR = 0.000001\n",
        "optim = tf.keras.optimizers.Adam(LR)\n",
        "\n",
        "\n",
        "# Segmentation models losses can be combined together by '+' and scaled by integer or float factor\n",
        "# set class weights for dice_loss (car: 1.; pedestrian: 2.; background: 0.5;)\n",
        "dice_loss = sm.losses.DiceLoss(class_weights=np.array([0.25,0.25, 0.25, 0.25,0.25, 0.25, 0.25, 0.25]))\n",
        "focal_loss = sm.losses.CategoricalFocalLoss()\n",
        "total_loss = dice_loss + (1 * focal_loss)\n",
        "\n",
        "# actulally total_loss can be imported directly from library, above example just show you how to manipulate with losses\n",
        "# total_loss = sm.losses.binary_focal_dice_loss # or sm.losses.categorical_focal_dice_loss\n",
        "\n",
        "metrics = [sm.metrics.IOUScore(threshold=0.5), sm.metrics.FScore(threshold=0.5)]"
      ]
    },
    {
      "cell_type": "code",
      "execution_count": 22,
      "metadata": {
        "id": "lePX43TyD1Lp"
      },
      "outputs": [],
      "source": [
        "preprocess_input = sm.get_preprocessing(BACKBONE)"
      ]
    },
    {
      "cell_type": "code",
      "execution_count": 23,
      "metadata": {
        "id": "3jTN_tsXD7qK"
      },
      "outputs": [],
      "source": [
        "#Preprocess input data - otherwise you end up with garbage resutls\n",
        "# and potentially model that does not converge.\n",
        "X_train_prep = preprocess_input(X_train)\n",
        "X_test_prep = preprocess_input(X_test)"
      ]
    },
    {
      "cell_type": "code",
      "execution_count": 24,
      "metadata": {},
      "outputs": [
        {
          "name": "stdout",
          "output_type": "stream",
          "text": [
            "X_train shape: (102, 64, 64, 64, 3)\n",
            "y_train shape: (102, 64, 64, 64, 8)\n",
            "X_test shape: (26, 64, 64, 64, 3)\n",
            "y_test shape: (26, 64, 64, 64, 8)\n"
          ]
        }
      ],
      "source": [
        "print(f\"X_train shape: {np.array(X_train).shape}\")\n",
        "print(f\"y_train shape: {np.array(y_train).shape}\")\n",
        "print(f\"X_test shape: {np.array(X_test).shape}\")\n",
        "print(f\"y_test shape: {np.array(y_test).shape}\")"
      ]
    },
    {
      "cell_type": "code",
      "execution_count": 25,
      "metadata": {},
      "outputs": [
        {
          "name": "stdout",
          "output_type": "stream",
          "text": [
            "1 Physical GPUs, 1 Logical GPUs\n"
          ]
        }
      ],
      "source": [
        "gpus = tf.config.experimental.list_physical_devices('GPU')\n",
        "if gpus:\n",
        "  try:\n",
        "    # Currently, memory growth needs to be the same across GPUs\n",
        "    for gpu in gpus:\n",
        "      tf.config.experimental.set_memory_growth(gpu, True)\n",
        "    logical_gpus = tf.config.experimental.list_logical_devices('GPU')\n",
        "    print(len(gpus), \"Physical GPUs,\", len(logical_gpus), \"Logical GPUs\")\n",
        "  except RuntimeError as e:\n",
        "    # Memory growth must be set before GPUs have been initialized\n",
        "    print(e)"
      ]
    },
    {
      "cell_type": "code",
      "execution_count": 26,
      "metadata": {},
      "outputs": [
        {
          "name": "stdout",
          "output_type": "stream",
          "text": [
            "[name: \"/device:CPU:0\"\n",
            "device_type: \"CPU\"\n",
            "memory_limit: 268435456\n",
            "locality {\n",
            "}\n",
            "incarnation: 1717280420935201521\n",
            "xla_global_id: -1\n",
            ", name: \"/device:GPU:0\"\n",
            "device_type: \"GPU\"\n",
            "memory_limit: 7745830912\n",
            "locality {\n",
            "  bus_id: 1\n",
            "  links {\n",
            "  }\n",
            "}\n",
            "incarnation: 10707049948591449567\n",
            "physical_device_desc: \"device: 0, name: NVIDIA GeForce RTX 3080, pci bus id: 0000:2b:00.0, compute capability: 8.6\"\n",
            "xla_global_id: 416903419\n",
            "]\n"
          ]
        }
      ],
      "source": [
        "from tensorflow.python.client import device_lib\n",
        "print(device_lib.list_local_devices())\n"
      ]
    },
    {
      "cell_type": "code",
      "execution_count": 27,
      "metadata": {
        "colab": {
          "base_uri": "https://localhost:8080/"
        },
        "id": "jdoK1wudAJQ7",
        "outputId": "73c1ee8f-dfbd-4471-fd9a-990de833d41a"
      },
      "outputs": [
        {
          "name": "stdout",
          "output_type": "stream",
          "text": [
            "Model: \"model\"\n",
            "__________________________________________________________________________________________________\n",
            " Layer (type)                   Output Shape         Param #     Connected to                     \n",
            "==================================================================================================\n",
            " input_1 (InputLayer)           [(None, 64, 64, 64,  0           []                               \n",
            "                                 3)]                                                              \n",
            "                                                                                                  \n",
            " block1_conv1 (Conv3D)          (None, 64, 64, 64,   5248        ['input_1[0][0]']                \n",
            "                                64)                                                               \n",
            "                                                                                                  \n",
            " block1_conv2 (Conv3D)          (None, 64, 64, 64,   110656      ['block1_conv1[0][0]']           \n",
            "                                64)                                                               \n",
            "                                                                                                  \n",
            " block1_pool (MaxPooling3D)     (None, 32, 32, 32,   0           ['block1_conv2[0][0]']           \n",
            "                                64)                                                               \n",
            "                                                                                                  \n",
            " block2_conv1 (Conv3D)          (None, 32, 32, 32,   221312      ['block1_pool[0][0]']            \n",
            "                                128)                                                              \n",
            "                                                                                                  \n",
            " block2_conv2 (Conv3D)          (None, 32, 32, 32,   442496      ['block2_conv1[0][0]']           \n",
            "                                128)                                                              \n",
            "                                                                                                  \n",
            " block2_pool (MaxPooling3D)     (None, 16, 16, 16,   0           ['block2_conv2[0][0]']           \n",
            "                                128)                                                              \n",
            "                                                                                                  \n",
            " block3_conv1 (Conv3D)          (None, 16, 16, 16,   884992      ['block2_pool[0][0]']            \n",
            "                                256)                                                              \n",
            "                                                                                                  \n",
            " block3_conv2 (Conv3D)          (None, 16, 16, 16,   1769728     ['block3_conv1[0][0]']           \n",
            "                                256)                                                              \n",
            "                                                                                                  \n",
            " block3_conv3 (Conv3D)          (None, 16, 16, 16,   1769728     ['block3_conv2[0][0]']           \n",
            "                                256)                                                              \n",
            "                                                                                                  \n",
            " block3_pool (MaxPooling3D)     (None, 8, 8, 8, 256  0           ['block3_conv3[0][0]']           \n",
            "                                )                                                                 \n",
            "                                                                                                  \n",
            " block4_conv1 (Conv3D)          (None, 8, 8, 8, 512  3539456     ['block3_pool[0][0]']            \n",
            "                                )                                                                 \n",
            "                                                                                                  \n",
            " block4_conv2 (Conv3D)          (None, 8, 8, 8, 512  7078400     ['block4_conv1[0][0]']           \n",
            "                                )                                                                 \n",
            "                                                                                                  \n",
            " block4_conv3 (Conv3D)          (None, 8, 8, 8, 512  7078400     ['block4_conv2[0][0]']           \n",
            "                                )                                                                 \n",
            "                                                                                                  \n",
            " block4_pool (MaxPooling3D)     (None, 4, 4, 4, 512  0           ['block4_conv3[0][0]']           \n",
            "                                )                                                                 \n",
            "                                                                                                  \n",
            " block5_conv1 (Conv3D)          (None, 4, 4, 4, 512  7078400     ['block4_pool[0][0]']            \n",
            "                                )                                                                 \n",
            "                                                                                                  \n",
            " block5_conv2 (Conv3D)          (None, 4, 4, 4, 512  7078400     ['block5_conv1[0][0]']           \n",
            "                                )                                                                 \n",
            "                                                                                                  \n",
            " block5_conv3 (Conv3D)          (None, 4, 4, 4, 512  7078400     ['block5_conv2[0][0]']           \n",
            "                                )                                                                 \n",
            "                                                                                                  \n",
            " block5_pool (MaxPooling3D)     (None, 2, 2, 2, 512  0           ['block5_conv3[0][0]']           \n",
            "                                )                                                                 \n",
            "                                                                                                  \n",
            " center_block1_conv (Conv3D)    (None, 2, 2, 2, 512  7077888     ['block5_pool[0][0]']            \n",
            "                                )                                                                 \n",
            "                                                                                                  \n",
            " center_block1_bn (BatchNormali  (None, 2, 2, 2, 512  2048       ['center_block1_conv[0][0]']     \n",
            " zation)                        )                                                                 \n",
            "                                                                                                  \n",
            " center_block1_relu (Activation  (None, 2, 2, 2, 512  0          ['center_block1_bn[0][0]']       \n",
            " )                              )                                                                 \n",
            "                                                                                                  \n",
            " center_block2_conv (Conv3D)    (None, 2, 2, 2, 512  7077888     ['center_block1_relu[0][0]']     \n",
            "                                )                                                                 \n",
            "                                                                                                  \n",
            " center_block2_bn (BatchNormali  (None, 2, 2, 2, 512  2048       ['center_block2_conv[0][0]']     \n",
            " zation)                        )                                                                 \n",
            "                                                                                                  \n",
            " center_block2_relu (Activation  (None, 2, 2, 2, 512  0          ['center_block2_bn[0][0]']       \n",
            " )                              )                                                                 \n",
            "                                                                                                  \n",
            " decoder_stage0_upsampling (UpS  (None, 4, 4, 4, 512  0          ['center_block2_relu[0][0]']     \n",
            " ampling3D)                     )                                                                 \n",
            "                                                                                                  \n",
            " decoder_stage0_concat (Concate  (None, 4, 4, 4, 102  0          ['decoder_stage0_upsampling[0][0]\n",
            " nate)                          4)                               ',                               \n",
            "                                                                  'block5_conv3[0][0]']           \n",
            "                                                                                                  \n",
            " decoder_stage0a_conv (Conv3D)  (None, 4, 4, 4, 256  7077888     ['decoder_stage0_concat[0][0]']  \n",
            "                                )                                                                 \n",
            "                                                                                                  \n",
            " decoder_stage0a_bn (BatchNorma  (None, 4, 4, 4, 256  1024       ['decoder_stage0a_conv[0][0]']   \n",
            " lization)                      )                                                                 \n",
            "                                                                                                  \n",
            " decoder_stage0a_relu (Activati  (None, 4, 4, 4, 256  0          ['decoder_stage0a_bn[0][0]']     \n",
            " on)                            )                                                                 \n",
            "                                                                                                  \n",
            " decoder_stage0b_conv (Conv3D)  (None, 4, 4, 4, 256  1769472     ['decoder_stage0a_relu[0][0]']   \n",
            "                                )                                                                 \n",
            "                                                                                                  \n",
            " decoder_stage0b_bn (BatchNorma  (None, 4, 4, 4, 256  1024       ['decoder_stage0b_conv[0][0]']   \n",
            " lization)                      )                                                                 \n",
            "                                                                                                  \n",
            " decoder_stage0b_relu (Activati  (None, 4, 4, 4, 256  0          ['decoder_stage0b_bn[0][0]']     \n",
            " on)                            )                                                                 \n",
            "                                                                                                  \n",
            " decoder_stage1_upsampling (UpS  (None, 8, 8, 8, 256  0          ['decoder_stage0b_relu[0][0]']   \n",
            " ampling3D)                     )                                                                 \n",
            "                                                                                                  \n",
            " decoder_stage1_concat (Concate  (None, 8, 8, 8, 768  0          ['decoder_stage1_upsampling[0][0]\n",
            " nate)                          )                                ',                               \n",
            "                                                                  'block4_conv3[0][0]']           \n",
            "                                                                                                  \n",
            " decoder_stage1a_conv (Conv3D)  (None, 8, 8, 8, 128  2654208     ['decoder_stage1_concat[0][0]']  \n",
            "                                )                                                                 \n",
            "                                                                                                  \n",
            " decoder_stage1a_bn (BatchNorma  (None, 8, 8, 8, 128  512        ['decoder_stage1a_conv[0][0]']   \n",
            " lization)                      )                                                                 \n",
            "                                                                                                  \n",
            " decoder_stage1a_relu (Activati  (None, 8, 8, 8, 128  0          ['decoder_stage1a_bn[0][0]']     \n",
            " on)                            )                                                                 \n",
            "                                                                                                  \n",
            " decoder_stage1b_conv (Conv3D)  (None, 8, 8, 8, 128  442368      ['decoder_stage1a_relu[0][0]']   \n",
            "                                )                                                                 \n",
            "                                                                                                  \n",
            " decoder_stage1b_bn (BatchNorma  (None, 8, 8, 8, 128  512        ['decoder_stage1b_conv[0][0]']   \n",
            " lization)                      )                                                                 \n",
            "                                                                                                  \n",
            " decoder_stage1b_relu (Activati  (None, 8, 8, 8, 128  0          ['decoder_stage1b_bn[0][0]']     \n",
            " on)                            )                                                                 \n",
            "                                                                                                  \n",
            " decoder_stage2_upsampling (UpS  (None, 16, 16, 16,   0          ['decoder_stage1b_relu[0][0]']   \n",
            " ampling3D)                     128)                                                              \n",
            "                                                                                                  \n",
            " decoder_stage2_concat (Concate  (None, 16, 16, 16,   0          ['decoder_stage2_upsampling[0][0]\n",
            " nate)                          384)                             ',                               \n",
            "                                                                  'block3_conv3[0][0]']           \n",
            "                                                                                                  \n",
            " decoder_stage2a_conv (Conv3D)  (None, 16, 16, 16,   663552      ['decoder_stage2_concat[0][0]']  \n",
            "                                64)                                                               \n",
            "                                                                                                  \n",
            " decoder_stage2a_bn (BatchNorma  (None, 16, 16, 16,   256        ['decoder_stage2a_conv[0][0]']   \n",
            " lization)                      64)                                                               \n",
            "                                                                                                  \n",
            " decoder_stage2a_relu (Activati  (None, 16, 16, 16,   0          ['decoder_stage2a_bn[0][0]']     \n",
            " on)                            64)                                                               \n",
            "                                                                                                  \n",
            " decoder_stage2b_conv (Conv3D)  (None, 16, 16, 16,   110592      ['decoder_stage2a_relu[0][0]']   \n",
            "                                64)                                                               \n",
            "                                                                                                  \n",
            " decoder_stage2b_bn (BatchNorma  (None, 16, 16, 16,   256        ['decoder_stage2b_conv[0][0]']   \n",
            " lization)                      64)                                                               \n",
            "                                                                                                  \n",
            " decoder_stage2b_relu (Activati  (None, 16, 16, 16,   0          ['decoder_stage2b_bn[0][0]']     \n",
            " on)                            64)                                                               \n",
            "                                                                                                  \n",
            " decoder_stage3_upsampling (UpS  (None, 32, 32, 32,   0          ['decoder_stage2b_relu[0][0]']   \n",
            " ampling3D)                     64)                                                               \n",
            "                                                                                                  \n",
            " decoder_stage3_concat (Concate  (None, 32, 32, 32,   0          ['decoder_stage3_upsampling[0][0]\n",
            " nate)                          192)                             ',                               \n",
            "                                                                  'block2_conv2[0][0]']           \n",
            "                                                                                                  \n",
            " decoder_stage3a_conv (Conv3D)  (None, 32, 32, 32,   165888      ['decoder_stage3_concat[0][0]']  \n",
            "                                32)                                                               \n",
            "                                                                                                  \n",
            " decoder_stage3a_bn (BatchNorma  (None, 32, 32, 32,   128        ['decoder_stage3a_conv[0][0]']   \n",
            " lization)                      32)                                                               \n",
            "                                                                                                  \n",
            " decoder_stage3a_relu (Activati  (None, 32, 32, 32,   0          ['decoder_stage3a_bn[0][0]']     \n",
            " on)                            32)                                                               \n",
            "                                                                                                  \n",
            " decoder_stage3b_conv (Conv3D)  (None, 32, 32, 32,   27648       ['decoder_stage3a_relu[0][0]']   \n",
            "                                32)                                                               \n",
            "                                                                                                  \n",
            " decoder_stage3b_bn (BatchNorma  (None, 32, 32, 32,   128        ['decoder_stage3b_conv[0][0]']   \n",
            " lization)                      32)                                                               \n",
            "                                                                                                  \n",
            " decoder_stage3b_relu (Activati  (None, 32, 32, 32,   0          ['decoder_stage3b_bn[0][0]']     \n",
            " on)                            32)                                                               \n",
            "                                                                                                  \n",
            " decoder_stage4_upsampling (UpS  (None, 64, 64, 64,   0          ['decoder_stage3b_relu[0][0]']   \n",
            " ampling3D)                     32)                                                               \n",
            "                                                                                                  \n",
            " decoder_stage4a_conv (Conv3D)  (None, 64, 64, 64,   13824       ['decoder_stage4_upsampling[0][0]\n",
            "                                16)                              ']                               \n",
            "                                                                                                  \n",
            " decoder_stage4a_bn (BatchNorma  (None, 64, 64, 64,   64         ['decoder_stage4a_conv[0][0]']   \n",
            " lization)                      16)                                                               \n",
            "                                                                                                  \n",
            " decoder_stage4a_relu (Activati  (None, 64, 64, 64,   0          ['decoder_stage4a_bn[0][0]']     \n",
            " on)                            16)                                                               \n",
            "                                                                                                  \n",
            " decoder_stage4b_conv (Conv3D)  (None, 64, 64, 64,   6912        ['decoder_stage4a_relu[0][0]']   \n",
            "                                16)                                                               \n",
            "                                                                                                  \n",
            " decoder_stage4b_bn (BatchNorma  (None, 64, 64, 64,   64         ['decoder_stage4b_conv[0][0]']   \n",
            " lization)                      16)                                                               \n",
            "                                                                                                  \n",
            " decoder_stage4b_relu (Activati  (None, 64, 64, 64,   0          ['decoder_stage4b_bn[0][0]']     \n",
            " on)                            16)                                                               \n",
            "                                                                                                  \n",
            " final_conv (Conv3D)            (None, 64, 64, 64,   3464        ['decoder_stage4b_relu[0][0]']   \n",
            "                                8)                                                                \n",
            "                                                                                                  \n",
            " softmax (Activation)           (None, 64, 64, 64,   0           ['final_conv[0][0]']             \n",
            "                                8)                                                                \n",
            "                                                                                                  \n",
            "==================================================================================================\n",
            "Total params: 71,235,272\n",
            "Trainable params: 71,231,240\n",
            "Non-trainable params: 4,032\n",
            "__________________________________________________________________________________________________\n",
            "None\n"
          ]
        }
      ],
      "source": [
        "#Define the model. Here we use Unet but we can also use other model architectures from the library.\n",
        "model = sm.Unet(BACKBONE, classes=n_classes,\n",
        "                input_shape=(patch_size, patch_size, patch_size, channels),\n",
        "                encoder_weights=encoder_weights,\n",
        "                activation=activation)\n",
        "\n",
        "model.compile(optimizer = optim, loss=total_loss, metrics=metrics)\n",
        "print(model.summary())"
      ]
    },
    {
      "cell_type": "code",
      "execution_count": 28,
      "metadata": {},
      "outputs": [
        {
          "name": "stdout",
          "output_type": "stream",
          "text": [
            "(102, 64, 64, 64, 3)\n",
            "(102, 64, 64, 64, 8)\n"
          ]
        }
      ],
      "source": [
        "print (X_train_prep.shape)\n",
        "print (y_train.shape)"
      ]
    },
    {
      "cell_type": "code",
      "execution_count": 30,
      "metadata": {
        "colab": {
          "base_uri": "https://localhost:8080/"
        },
        "id": "f69gK8DoAQ1C",
        "outputId": "0f54f686-f018-4ca1-ca2f-87d4352346aa"
      },
      "outputs": [
        {
          "name": "stdout",
          "output_type": "stream",
          "text": [
            "Epoch 1/100\n",
            "102/102 [==============================] - 12s 120ms/step - loss: 1.0727 - iou_score: 0.0810 - f1-score: 0.0811 - val_loss: 1.0752 - val_iou_score: 0.3129 - val_f1-score: 0.3133\n",
            "Epoch 2/100\n",
            "102/102 [==============================] - 12s 116ms/step - loss: 1.0705 - iou_score: 0.0896 - f1-score: 0.0897 - val_loss: 1.0746 - val_iou_score: 0.3177 - val_f1-score: 0.3181\n",
            "Epoch 3/100\n",
            "102/102 [==============================] - 11s 113ms/step - loss: 1.0683 - iou_score: 0.1043 - f1-score: 0.1044 - val_loss: 1.0716 - val_iou_score: 0.3273 - val_f1-score: 0.3276\n",
            "Epoch 4/100\n",
            "102/102 [==============================] - 11s 112ms/step - loss: 1.0663 - iou_score: 0.1067 - f1-score: 0.1068 - val_loss: 1.0697 - val_iou_score: 0.3224 - val_f1-score: 0.3228\n",
            "Epoch 5/100\n",
            "102/102 [==============================] - 11s 112ms/step - loss: 1.0644 - iou_score: 0.1141 - f1-score: 0.1141 - val_loss: 1.0665 - val_iou_score: 0.3272 - val_f1-score: 0.3275\n",
            "Epoch 6/100\n",
            "102/102 [==============================] - 11s 112ms/step - loss: 1.0626 - iou_score: 0.1300 - f1-score: 0.1301 - val_loss: 1.0660 - val_iou_score: 0.3368 - val_f1-score: 0.3371\n",
            "Epoch 7/100\n",
            "102/102 [==============================] - 11s 113ms/step - loss: 1.0610 - iou_score: 0.1459 - f1-score: 0.1460 - val_loss: 1.0643 - val_iou_score: 0.3320 - val_f1-score: 0.3323\n",
            "Epoch 8/100\n",
            "102/102 [==============================] - 11s 112ms/step - loss: 1.0594 - iou_score: 0.1520 - f1-score: 0.1521 - val_loss: 1.0619 - val_iou_score: 0.3464 - val_f1-score: 0.3467\n",
            "Epoch 9/100\n",
            "102/102 [==============================] - 11s 112ms/step - loss: 1.0580 - iou_score: 0.1569 - f1-score: 0.1570 - val_loss: 1.0609 - val_iou_score: 0.3513 - val_f1-score: 0.3515\n",
            "Epoch 10/100\n",
            "102/102 [==============================] - 11s 113ms/step - loss: 1.0565 - iou_score: 0.1581 - f1-score: 0.1582 - val_loss: 1.0593 - val_iou_score: 0.3465 - val_f1-score: 0.3467\n",
            "Epoch 11/100\n",
            "102/102 [==============================] - 12s 113ms/step - loss: 1.0552 - iou_score: 0.1630 - f1-score: 0.1631 - val_loss: 1.0580 - val_iou_score: 0.3416 - val_f1-score: 0.3419\n",
            "Epoch 12/100\n",
            "102/102 [==============================] - 11s 113ms/step - loss: 1.0538 - iou_score: 0.1704 - f1-score: 0.1705 - val_loss: 1.0563 - val_iou_score: 0.3561 - val_f1-score: 0.3564\n",
            "Epoch 13/100\n",
            "102/102 [==============================] - 12s 113ms/step - loss: 1.0525 - iou_score: 0.1667 - f1-score: 0.1668 - val_loss: 1.0549 - val_iou_score: 0.3513 - val_f1-score: 0.3516\n",
            "Epoch 14/100\n",
            "102/102 [==============================] - 11s 113ms/step - loss: 1.0513 - iou_score: 0.1741 - f1-score: 0.1741 - val_loss: 1.0527 - val_iou_score: 0.3657 - val_f1-score: 0.3659\n",
            "Epoch 15/100\n",
            "102/102 [==============================] - 11s 113ms/step - loss: 1.0500 - iou_score: 0.1741 - f1-score: 0.1741 - val_loss: 1.0510 - val_iou_score: 0.3608 - val_f1-score: 0.3611\n",
            "Epoch 16/100\n",
            "102/102 [==============================] - 12s 113ms/step - loss: 1.0488 - iou_score: 0.1728 - f1-score: 0.1729 - val_loss: 1.0500 - val_iou_score: 0.3608 - val_f1-score: 0.3611\n",
            "Epoch 17/100\n",
            "102/102 [==============================] - 12s 113ms/step - loss: 1.0475 - iou_score: 0.1704 - f1-score: 0.1704 - val_loss: 1.0486 - val_iou_score: 0.3608 - val_f1-score: 0.3611\n",
            "Epoch 18/100\n",
            "102/102 [==============================] - 11s 113ms/step - loss: 1.0463 - iou_score: 0.1679 - f1-score: 0.1680 - val_loss: 1.0473 - val_iou_score: 0.3704 - val_f1-score: 0.3707\n",
            "Epoch 19/100\n",
            "102/102 [==============================] - 12s 113ms/step - loss: 1.0451 - iou_score: 0.1692 - f1-score: 0.1692 - val_loss: 1.0457 - val_iou_score: 0.3752 - val_f1-score: 0.3754\n",
            "Epoch 20/100\n",
            "102/102 [==============================] - 11s 113ms/step - loss: 1.0439 - iou_score: 0.1716 - f1-score: 0.1717 - val_loss: 1.0449 - val_iou_score: 0.3656 - val_f1-score: 0.3659\n",
            "Epoch 21/100\n",
            "102/102 [==============================] - 12s 113ms/step - loss: 1.0427 - iou_score: 0.1704 - f1-score: 0.1705 - val_loss: 1.0434 - val_iou_score: 0.3752 - val_f1-score: 0.3755\n",
            "Epoch 22/100\n",
            "102/102 [==============================] - 12s 113ms/step - loss: 1.0416 - iou_score: 0.1717 - f1-score: 0.1717 - val_loss: 1.0418 - val_iou_score: 0.3897 - val_f1-score: 0.3899\n",
            "Epoch 23/100\n",
            "102/102 [==============================] - 12s 113ms/step - loss: 1.0404 - iou_score: 0.1766 - f1-score: 0.1767 - val_loss: 1.0405 - val_iou_score: 0.3896 - val_f1-score: 0.3899\n",
            "Epoch 24/100\n",
            "102/102 [==============================] - 12s 113ms/step - loss: 1.0392 - iou_score: 0.1815 - f1-score: 0.1816 - val_loss: 1.0394 - val_iou_score: 0.4041 - val_f1-score: 0.4043\n",
            "Epoch 25/100\n",
            "102/102 [==============================] - 12s 113ms/step - loss: 1.0380 - iou_score: 0.1839 - f1-score: 0.1840 - val_loss: 1.0384 - val_iou_score: 0.4089 - val_f1-score: 0.4091\n",
            "Epoch 26/100\n",
            "102/102 [==============================] - 12s 113ms/step - loss: 1.0368 - iou_score: 0.1852 - f1-score: 0.1853 - val_loss: 1.0368 - val_iou_score: 0.4137 - val_f1-score: 0.4139\n",
            "Epoch 27/100\n",
            "102/102 [==============================] - 12s 114ms/step - loss: 1.0357 - iou_score: 0.1925 - f1-score: 0.1927 - val_loss: 1.0358 - val_iou_score: 0.4185 - val_f1-score: 0.4188\n",
            "Epoch 28/100\n",
            "102/102 [==============================] - 12s 113ms/step - loss: 1.0345 - iou_score: 0.1913 - f1-score: 0.1915 - val_loss: 1.0340 - val_iou_score: 0.4233 - val_f1-score: 0.4236\n",
            "Epoch 29/100\n",
            "102/102 [==============================] - 12s 113ms/step - loss: 1.0333 - iou_score: 0.2036 - f1-score: 0.2038 - val_loss: 1.0327 - val_iou_score: 0.4282 - val_f1-score: 0.4284\n",
            "Epoch 30/100\n",
            "102/102 [==============================] - 12s 114ms/step - loss: 1.0321 - iou_score: 0.2061 - f1-score: 0.2062 - val_loss: 1.0318 - val_iou_score: 0.4186 - val_f1-score: 0.4189\n",
            "Epoch 31/100\n",
            "102/102 [==============================] - 12s 114ms/step - loss: 1.0309 - iou_score: 0.2085 - f1-score: 0.2087 - val_loss: 1.0301 - val_iou_score: 0.4330 - val_f1-score: 0.4333\n",
            "Epoch 32/100\n",
            "102/102 [==============================] - 12s 113ms/step - loss: 1.0298 - iou_score: 0.2085 - f1-score: 0.2088 - val_loss: 1.0292 - val_iou_score: 0.4186 - val_f1-score: 0.4190\n",
            "Epoch 33/100\n",
            "102/102 [==============================] - 12s 113ms/step - loss: 1.0286 - iou_score: 0.2135 - f1-score: 0.2137 - val_loss: 1.0275 - val_iou_score: 0.4187 - val_f1-score: 0.4190\n",
            "Epoch 34/100\n",
            "102/102 [==============================] - 12s 113ms/step - loss: 1.0274 - iou_score: 0.2159 - f1-score: 0.2162 - val_loss: 1.0265 - val_iou_score: 0.4283 - val_f1-score: 0.4287\n",
            "Epoch 35/100\n",
            "102/102 [==============================] - 12s 113ms/step - loss: 1.0263 - iou_score: 0.2172 - f1-score: 0.2175 - val_loss: 1.0249 - val_iou_score: 0.4379 - val_f1-score: 0.4383\n",
            "Epoch 36/100\n",
            "102/102 [==============================] - 12s 114ms/step - loss: 1.0251 - iou_score: 0.2234 - f1-score: 0.2237 - val_loss: 1.0239 - val_iou_score: 0.4380 - val_f1-score: 0.4385\n",
            "Epoch 37/100\n",
            "102/102 [==============================] - 12s 114ms/step - loss: 1.0240 - iou_score: 0.2271 - f1-score: 0.2275 - val_loss: 1.0226 - val_iou_score: 0.4381 - val_f1-score: 0.4388\n",
            "Epoch 38/100\n",
            "102/102 [==============================] - 12s 114ms/step - loss: 1.0229 - iou_score: 0.2272 - f1-score: 0.2276 - val_loss: 1.0215 - val_iou_score: 0.4527 - val_f1-score: 0.4534\n",
            "Epoch 39/100\n",
            "102/102 [==============================] - 12s 113ms/step - loss: 1.0218 - iou_score: 0.2272 - f1-score: 0.2277 - val_loss: 1.0200 - val_iou_score: 0.4578 - val_f1-score: 0.4588\n",
            "Epoch 40/100\n",
            "102/102 [==============================] - 12s 113ms/step - loss: 1.0207 - iou_score: 0.2322 - f1-score: 0.2328 - val_loss: 1.0190 - val_iou_score: 0.4725 - val_f1-score: 0.4737\n",
            "Epoch 41/100\n",
            "102/102 [==============================] - 12s 113ms/step - loss: 1.0197 - iou_score: 0.2336 - f1-score: 0.2343 - val_loss: 1.0178 - val_iou_score: 0.4824 - val_f1-score: 0.4838\n",
            "Epoch 42/100\n",
            "102/102 [==============================] - 12s 113ms/step - loss: 1.0186 - iou_score: 0.2398 - f1-score: 0.2407 - val_loss: 1.0168 - val_iou_score: 0.4876 - val_f1-score: 0.4891\n",
            "Epoch 43/100\n",
            "102/102 [==============================] - 12s 113ms/step - loss: 1.0176 - iou_score: 0.2449 - f1-score: 0.2459 - val_loss: 1.0153 - val_iou_score: 0.4975 - val_f1-score: 0.4993\n",
            "Epoch 44/100\n",
            "102/102 [==============================] - 12s 113ms/step - loss: 1.0166 - iou_score: 0.2512 - f1-score: 0.2523 - val_loss: 1.0142 - val_iou_score: 0.5028 - val_f1-score: 0.5049\n",
            "Epoch 45/100\n",
            "102/102 [==============================] - 12s 113ms/step - loss: 1.0156 - iou_score: 0.2613 - f1-score: 0.2626 - val_loss: 1.0134 - val_iou_score: 0.5080 - val_f1-score: 0.5102\n",
            "Epoch 46/100\n",
            "102/102 [==============================] - 12s 113ms/step - loss: 1.0146 - iou_score: 0.2775 - f1-score: 0.2790 - val_loss: 1.0123 - val_iou_score: 0.5038 - val_f1-score: 0.5064\n",
            "Epoch 47/100\n",
            "102/102 [==============================] - 12s 113ms/step - loss: 1.0136 - iou_score: 0.2925 - f1-score: 0.2943 - val_loss: 1.0112 - val_iou_score: 0.5424 - val_f1-score: 0.5450\n",
            "Epoch 48/100\n",
            "102/102 [==============================] - 12s 113ms/step - loss: 1.0126 - iou_score: 0.2989 - f1-score: 0.3010 - val_loss: 1.0105 - val_iou_score: 0.5524 - val_f1-score: 0.5552\n",
            "Epoch 49/100\n",
            "102/102 [==============================] - 12s 113ms/step - loss: 1.0117 - iou_score: 0.3055 - f1-score: 0.3080 - val_loss: 1.0093 - val_iou_score: 0.5625 - val_f1-score: 0.5657\n",
            "Epoch 50/100\n",
            "102/102 [==============================] - 12s 114ms/step - loss: 1.0108 - iou_score: 0.3219 - f1-score: 0.3247 - val_loss: 1.0084 - val_iou_score: 0.5629 - val_f1-score: 0.5662\n",
            "Epoch 51/100\n",
            "102/102 [==============================] - 12s 113ms/step - loss: 1.0099 - iou_score: 0.3396 - f1-score: 0.3429 - val_loss: 1.0076 - val_iou_score: 0.5679 - val_f1-score: 0.5713\n",
            "Epoch 52/100\n",
            "102/102 [==============================] - 12s 115ms/step - loss: 1.0089 - iou_score: 0.3513 - f1-score: 0.3550 - val_loss: 1.0068 - val_iou_score: 0.5733 - val_f1-score: 0.5770\n",
            "Epoch 53/100\n",
            "102/102 [==============================] - 11s 110ms/step - loss: 1.0081 - iou_score: 0.3693 - f1-score: 0.3737 - val_loss: 1.0059 - val_iou_score: 0.5878 - val_f1-score: 0.5915\n",
            "Epoch 54/100\n",
            "102/102 [==============================] - 11s 110ms/step - loss: 1.0072 - iou_score: 0.3823 - f1-score: 0.3872 - val_loss: 1.0052 - val_iou_score: 0.5834 - val_f1-score: 0.5872\n",
            "Epoch 55/100\n",
            "102/102 [==============================] - 11s 110ms/step - loss: 1.0063 - iou_score: 0.4006 - f1-score: 0.4063 - val_loss: 1.0043 - val_iou_score: 0.5981 - val_f1-score: 0.6020\n",
            "Epoch 56/100\n",
            "102/102 [==============================] - 11s 110ms/step - loss: 1.0054 - iou_score: 0.4225 - f1-score: 0.4289 - val_loss: 1.0032 - val_iou_score: 0.5989 - val_f1-score: 0.6033\n",
            "Epoch 57/100\n",
            "102/102 [==============================] - 11s 110ms/step - loss: 1.0046 - iou_score: 0.4372 - f1-score: 0.4444 - val_loss: 1.0023 - val_iou_score: 0.5998 - val_f1-score: 0.6048\n",
            "Epoch 58/100\n",
            "102/102 [==============================] - 11s 109ms/step - loss: 1.0038 - iou_score: 0.4556 - f1-score: 0.4637 - val_loss: 1.0018 - val_iou_score: 0.6047 - val_f1-score: 0.6098\n",
            "Epoch 59/100\n",
            "102/102 [==============================] - 11s 110ms/step - loss: 1.0029 - iou_score: 0.4756 - f1-score: 0.4845 - val_loss: 1.0009 - val_iou_score: 0.6154 - val_f1-score: 0.6214\n",
            "Epoch 60/100\n",
            "102/102 [==============================] - 11s 110ms/step - loss: 1.0021 - iou_score: 0.4823 - f1-score: 0.4921 - val_loss: 1.0001 - val_iou_score: 0.6265 - val_f1-score: 0.6335\n",
            "Epoch 61/100\n",
            "102/102 [==============================] - 11s 110ms/step - loss: 1.0013 - iou_score: 0.4913 - f1-score: 0.5020 - val_loss: 0.9995 - val_iou_score: 0.6276 - val_f1-score: 0.6353\n",
            "Epoch 62/100\n",
            "102/102 [==============================] - 11s 110ms/step - loss: 1.0005 - iou_score: 0.5031 - f1-score: 0.5147 - val_loss: 0.9987 - val_iou_score: 0.6444 - val_f1-score: 0.6537\n",
            "Epoch 63/100\n",
            "102/102 [==============================] - 11s 110ms/step - loss: 0.9998 - iou_score: 0.5124 - f1-score: 0.5248 - val_loss: 0.9980 - val_iou_score: 0.6524 - val_f1-score: 0.6636\n",
            "Epoch 64/100\n",
            "102/102 [==============================] - 11s 110ms/step - loss: 0.9990 - iou_score: 0.5207 - f1-score: 0.5342 - val_loss: 0.9973 - val_iou_score: 0.6572 - val_f1-score: 0.6707\n",
            "Epoch 65/100\n",
            "102/102 [==============================] - 11s 110ms/step - loss: 0.9982 - iou_score: 0.5314 - f1-score: 0.5457 - val_loss: 0.9965 - val_iou_score: 0.6583 - val_f1-score: 0.6738\n",
            "Epoch 66/100\n",
            "102/102 [==============================] - 11s 110ms/step - loss: 0.9975 - iou_score: 0.5447 - f1-score: 0.5599 - val_loss: 0.9959 - val_iou_score: 0.6740 - val_f1-score: 0.6909\n",
            "Epoch 67/100\n",
            "102/102 [==============================] - 11s 109ms/step - loss: 0.9968 - iou_score: 0.5563 - f1-score: 0.5725 - val_loss: 0.9952 - val_iou_score: 0.6979 - val_f1-score: 0.7155\n",
            "Epoch 68/100\n",
            "102/102 [==============================] - 11s 110ms/step - loss: 0.9960 - iou_score: 0.5688 - f1-score: 0.5859 - val_loss: 0.9946 - val_iou_score: 0.7035 - val_f1-score: 0.7187\n",
            "Epoch 69/100\n",
            "102/102 [==============================] - 11s 109ms/step - loss: 0.9953 - iou_score: 0.5786 - f1-score: 0.5965 - val_loss: 0.9940 - val_iou_score: 0.7098 - val_f1-score: 0.7248\n",
            "Epoch 70/100\n",
            "102/102 [==============================] - 11s 110ms/step - loss: 0.9947 - iou_score: 0.5929 - f1-score: 0.6117 - val_loss: 0.9934 - val_iou_score: 0.7110 - val_f1-score: 0.7259\n",
            "Epoch 71/100\n",
            "102/102 [==============================] - 11s 110ms/step - loss: 0.9940 - iou_score: 0.5970 - f1-score: 0.6163 - val_loss: 0.9928 - val_iou_score: 0.7215 - val_f1-score: 0.7365\n",
            "Epoch 72/100\n",
            "102/102 [==============================] - 11s 110ms/step - loss: 0.9933 - iou_score: 0.6085 - f1-score: 0.6283 - val_loss: 0.9923 - val_iou_score: 0.7219 - val_f1-score: 0.7369\n",
            "Epoch 73/100\n",
            "102/102 [==============================] - 11s 109ms/step - loss: 0.9927 - iou_score: 0.6168 - f1-score: 0.6371 - val_loss: 0.9917 - val_iou_score: 0.7231 - val_f1-score: 0.7383\n",
            "Epoch 74/100\n",
            "102/102 [==============================] - 11s 109ms/step - loss: 0.9920 - iou_score: 0.6313 - f1-score: 0.6519 - val_loss: 0.9913 - val_iou_score: 0.7235 - val_f1-score: 0.7386\n",
            "Epoch 75/100\n",
            "102/102 [==============================] - 11s 109ms/step - loss: 0.9914 - iou_score: 0.6440 - f1-score: 0.6648 - val_loss: 0.9907 - val_iou_score: 0.7294 - val_f1-score: 0.7445\n",
            "Epoch 76/100\n",
            "102/102 [==============================] - 11s 110ms/step - loss: 0.9908 - iou_score: 0.6536 - f1-score: 0.6744 - val_loss: 0.9901 - val_iou_score: 0.7307 - val_f1-score: 0.7457\n",
            "Epoch 77/100\n",
            "102/102 [==============================] - 11s 110ms/step - loss: 0.9902 - iou_score: 0.6606 - f1-score: 0.6814 - val_loss: 0.9895 - val_iou_score: 0.7416 - val_f1-score: 0.7566\n",
            "Epoch 78/100\n",
            "102/102 [==============================] - 11s 110ms/step - loss: 0.9896 - iou_score: 0.6551 - f1-score: 0.6758 - val_loss: 0.9889 - val_iou_score: 0.7430 - val_f1-score: 0.7582\n",
            "Epoch 79/100\n",
            "102/102 [==============================] - 11s 109ms/step - loss: 0.9891 - iou_score: 0.6595 - f1-score: 0.6801 - val_loss: 0.9885 - val_iou_score: 0.7440 - val_f1-score: 0.7592\n",
            "Epoch 80/100\n",
            "102/102 [==============================] - 11s 109ms/step - loss: 0.9885 - iou_score: 0.6662 - f1-score: 0.6866 - val_loss: 0.9881 - val_iou_score: 0.7396 - val_f1-score: 0.7548\n",
            "Epoch 81/100\n",
            "102/102 [==============================] - 11s 109ms/step - loss: 0.9880 - iou_score: 0.6656 - f1-score: 0.6858 - val_loss: 0.9876 - val_iou_score: 0.7410 - val_f1-score: 0.7561\n",
            "Epoch 82/100\n",
            "102/102 [==============================] - 11s 109ms/step - loss: 0.9874 - iou_score: 0.6663 - f1-score: 0.6863 - val_loss: 0.9871 - val_iou_score: 0.7478 - val_f1-score: 0.7627\n",
            "Epoch 83/100\n",
            "102/102 [==============================] - 11s 109ms/step - loss: 0.9869 - iou_score: 0.6685 - f1-score: 0.6882 - val_loss: 0.9867 - val_iou_score: 0.7490 - val_f1-score: 0.7639\n",
            "Epoch 84/100\n",
            "102/102 [==============================] - 11s 110ms/step - loss: 0.9864 - iou_score: 0.6705 - f1-score: 0.6898 - val_loss: 0.9862 - val_iou_score: 0.7500 - val_f1-score: 0.7650\n",
            "Epoch 85/100\n",
            "102/102 [==============================] - 11s 110ms/step - loss: 0.9859 - iou_score: 0.6713 - f1-score: 0.6903 - val_loss: 0.9858 - val_iou_score: 0.7516 - val_f1-score: 0.7665\n",
            "Epoch 86/100\n",
            "102/102 [==============================] - 11s 109ms/step - loss: 0.9855 - iou_score: 0.6721 - f1-score: 0.6906 - val_loss: 0.9853 - val_iou_score: 0.7584 - val_f1-score: 0.7732\n",
            "Epoch 87/100\n",
            "102/102 [==============================] - 11s 110ms/step - loss: 0.9850 - iou_score: 0.6804 - f1-score: 0.6985 - val_loss: 0.9850 - val_iou_score: 0.7639 - val_f1-score: 0.7785\n",
            "Epoch 88/100\n",
            "102/102 [==============================] - 11s 110ms/step - loss: 0.9846 - iou_score: 0.6849 - f1-score: 0.7025 - val_loss: 0.9847 - val_iou_score: 0.7752 - val_f1-score: 0.7896\n",
            "Epoch 89/100\n",
            "102/102 [==============================] - 11s 109ms/step - loss: 0.9841 - iou_score: 0.6906 - f1-score: 0.7077 - val_loss: 0.9842 - val_iou_score: 0.7776 - val_f1-score: 0.7918\n",
            "Epoch 90/100\n",
            "102/102 [==============================] - 11s 110ms/step - loss: 0.9837 - iou_score: 0.6977 - f1-score: 0.7143 - val_loss: 0.9838 - val_iou_score: 0.7943 - val_f1-score: 0.8081\n",
            "Epoch 91/100\n",
            "102/102 [==============================] - 11s 109ms/step - loss: 0.9833 - iou_score: 0.7036 - f1-score: 0.7196 - val_loss: 0.9835 - val_iou_score: 0.7960 - val_f1-score: 0.8094\n",
            "Epoch 92/100\n",
            "102/102 [==============================] - 11s 110ms/step - loss: 0.9829 - iou_score: 0.7206 - f1-score: 0.7359 - val_loss: 0.9833 - val_iou_score: 0.8017 - val_f1-score: 0.8150\n",
            "Epoch 93/100\n",
            "102/102 [==============================] - 11s 110ms/step - loss: 0.9825 - iou_score: 0.7272 - f1-score: 0.7420 - val_loss: 0.9828 - val_iou_score: 0.8042 - val_f1-score: 0.8169\n",
            "Epoch 94/100\n",
            "102/102 [==============================] - 11s 109ms/step - loss: 0.9822 - iou_score: 0.7344 - f1-score: 0.7485 - val_loss: 0.9825 - val_iou_score: 0.8158 - val_f1-score: 0.8280\n",
            "Epoch 95/100\n",
            "102/102 [==============================] - 11s 110ms/step - loss: 0.9818 - iou_score: 0.7388 - f1-score: 0.7522 - val_loss: 0.9822 - val_iou_score: 0.8128 - val_f1-score: 0.8245\n",
            "Epoch 96/100\n",
            "102/102 [==============================] - 11s 109ms/step - loss: 0.9815 - iou_score: 0.7444 - f1-score: 0.7572 - val_loss: 0.9819 - val_iou_score: 0.8093 - val_f1-score: 0.8206\n",
            "Epoch 97/100\n",
            "102/102 [==============================] - 11s 110ms/step - loss: 0.9811 - iou_score: 0.7522 - f1-score: 0.7644 - val_loss: 0.9816 - val_iou_score: 0.8119 - val_f1-score: 0.8224\n",
            "Epoch 98/100\n",
            "102/102 [==============================] - 11s 110ms/step - loss: 0.9808 - iou_score: 0.7614 - f1-score: 0.7730 - val_loss: 0.9814 - val_iou_score: 0.8231 - val_f1-score: 0.8330\n",
            "Epoch 99/100\n",
            "102/102 [==============================] - 11s 109ms/step - loss: 0.9805 - iou_score: 0.7666 - f1-score: 0.7776 - val_loss: 0.9810 - val_iou_score: 0.8249 - val_f1-score: 0.8341\n",
            "Epoch 100/100\n",
            "102/102 [==============================] - 11s 109ms/step - loss: 0.9802 - iou_score: 0.7807 - f1-score: 0.7910 - val_loss: 0.9808 - val_iou_score: 0.8353 - val_f1-score: 0.8442\n"
          ]
        }
      ],
      "source": [
        "#Fit the model\n",
        "history=model.fit(X_train_prep,\n",
        "          y_train,\n",
        "          batch_size=1,\n",
        "          epochs=100,\n",
        "          verbose=1,\n",
        "          validation_data=(X_test_prep, y_test))"
      ]
    },
    {
      "cell_type": "markdown",
      "metadata": {
        "id": "whtF9V1npJ8s"
      },
      "source": []
    },
    {
      "cell_type": "code",
      "execution_count": 31,
      "metadata": {
        "id": "LVTe3TrrE6DS"
      },
      "outputs": [],
      "source": [
        "#Save model for future use\n",
        "model.save('/home/chae/segmentation/result/3D_mrmodel_vgg16_100epochs_2.h5')"
      ]
    },
    {
      "cell_type": "code",
      "execution_count": 32,
      "metadata": {
        "colab": {
          "base_uri": "https://localhost:8080/",
          "height": 927
        },
        "id": "5Nk4OFMzAoLk",
        "outputId": "8172c5f5-8be6-4ec7-adf0-2cdb35aefbfb"
      },
      "outputs": [
        {
          "data": {
            "image/png": "[encoded data removed]",
            "text/plain": [
              "<Figure size 432x288 with 1 Axes>"
            ]
          },
          "metadata": {
            "needs_background": "light"
          },
          "output_type": "display_data"
        },
        {
          "data": {
            "image/png": "[encoded data removed]",
            "text/plain": [
              "<Figure size 432x288 with 1 Axes>"
            ]
          },
          "metadata": {
            "needs_background": "light"
          },
          "output_type": "display_data"
        }
      ],
      "source": [
        "###\n",
        "#plot the training and validation IoU and loss at each epoch\n",
        "loss = history.history['loss']\n",
        "val_loss = history.history['val_loss']\n",
        "epochs = range(1, len(loss) + 1)\n",
        "plt.plot(epochs, loss, 'y', label='Training loss')\n",
        "plt.plot(epochs, val_loss, 'r', label='Validation loss')\n",
        "plt.title('Training and validation loss')\n",
        "plt.xlabel('Epochs')\n",
        "plt.ylabel('Loss')\n",
        "plt.legend()\n",
        "plt.show()\n",
        "\n",
        "acc = history.history['iou_score']\n",
        "val_acc = history.history['val_iou_score']\n",
        "\n",
        "plt.plot(epochs, acc, 'y', label='Training IOU')\n",
        "plt.plot(epochs, val_acc, 'r', label='Validation IOU')\n",
        "plt.title('Training and validation IOU')\n",
        "plt.xlabel('Epochs')\n",
        "plt.ylabel('IOU')\n",
        "plt.legend()\n",
        "plt.show()"
      ]
    },
    {
      "cell_type": "code",
      "execution_count": null,
      "metadata": {
        "id": "lwjlR25nF54w"
      },
      "outputs": [],
      "source": [
        "# # import numpy as np\n",
        "# # import nibabel as nib\n",
        "# # import tensorflow as tf\n",
        "# # import segmentation_models as sm\n",
        "\n",
        "# # 여기에 dice_coefficient 및 dice_coefficient_loss 함수 정의\n",
        "\n",
        "# # 모델을 불러올 때 사용할 custom_objects\n",
        "# custom_objects = {\n",
        "#     'dice_loss_plus_1focal_loss': lambda y_true, y_pred: sm.losses.DiceLoss() + sm.losses.CategoricalFocalLoss(),\n",
        "#     'dice_coefficient': dice_coefficient,\n",
        "#     'dice_coefficient_loss': dice_coefficient_loss,\n",
        "#     'DiceLoss': sm.losses.DiceLoss,\n",
        "#     'CategoricalFocalLoss': sm.losses.CategoricalFocalLoss,\n",
        "#     'iou_score': sm.metrics.IOUScore,\n",
        "#     'f1-score': sm.metrics.FScore\n",
        "# }\n",
        "\n",
        "# # 모델 불러오기\n",
        "# model = tf.keras.models.load_model('/home/chae/segmentation/result/3D_model_vgg16_100epochs.h5', custom_objects=custom_objects)\n",
        "\n",
        "# resized_image_data = zoom(downsized_image_data, (64 / downsized_image_data.shape[0], 64 / downsized_image_data.shape[1], 64 / downsized_image_data.shape[2]))\n",
        "\n",
        "# # 채널 차원 추가 (회색조 이미지를 3채널로 변환)\n",
        "# resized_image_data = np.stack((resized_image_data,)*3, axis=-1)\n",
        "\n",
        "# # 배치 차원 추가\n",
        "# resized_image_data = np.expand_dims(resized_image_data, axis=0)\n",
        "\n",
        "# # 모델 적용\n",
        "# segmented = model.predict(resized_image_data)\n",
        "# # 모델 적용\n",
        "\n",
        "# # 결과 처리\n",
        "# segmented_result = np.argmax(segmented, axis=-1)\n",
        "# segmented_result = np.squeeze(segmented_result)\n",
        "\n",
        "# # 데이터 타입을 float32 또는 int16으로 변환\n",
        "# segmented_result = segmented_result.astype(np.float32)  # 또는 np.int16\n",
        "\n",
        "# # NIfTI 파일로 저장\n",
        "# new_nii = nib.Nifti1Image(segmented_result, affine=np.eye(4), dtype=np.float32)  # affine 매트릭스는 예시입니다\n",
        "# nib.save(new_nii, 'segmented_output.nii')"
      ]
    },
    {
      "cell_type": "code",
      "execution_count": null,
      "metadata": {},
      "outputs": [],
      "source": [
        "# import itk\n",
        "# import h5py\n",
        "# import numpy as np\n",
        "\n",
        "# # H5 파일 읽기\n",
        "# with h5py.File('/home/chae/segmentation/result/3D_model_vgg16_100epochs.h5', 'r') as file:\n",
        "#     dataset = file['/home/chae/segmentation/dataset/ct_test/ct_test_2001_image.nii.gz']\n",
        "#     image_data = np.array(dataset)\n",
        "\n",
        "# # ITK 이미지로 변환\n",
        "# image_itk = itk.image_from_array(image_data)\n",
        "\n",
        "# # ITK 이미지 처리 예시 (예: 스무딩)\n",
        "# smoothed_image = itk.smoothing_recursive_gaussian_image_filter(image_itk, sigma=2.0)\n",
        "\n",
        "# # 결과 저장 또는 추가 처리\n"
      ]
    },
    {
      "cell_type": "code",
      "execution_count": 33,
      "metadata": {
        "id": "kTAQpcUQA7SN"
      },
      "outputs": [
        {
          "name": "stdout",
          "output_type": "stream",
          "text": [
            "Type of my_model: (26, 64, 64, 64, 3)\n"
          ]
        }
      ],
      "source": [
        "#Predict on the test data\n",
        "from keras.models import load_model\n",
        "my_model = load_model('/home/chae/segmentation/result/3D_mrmodel_vgg16_100epochs_2.h5', compile=False)\n",
        "print(f'Type of my_model: {X_test_prep.shape}')\n",
        "y_pred=my_model.predict(X_test_prep)\n",
        "y_pred_argmax=np.argmax(y_pred, axis=4)\n",
        "y_test_argmax = np.argmax(y_test, axis=4)\n"
      ]
    },
    {
      "cell_type": "code",
      "execution_count": 34,
      "metadata": {
        "colab": {
          "base_uri": "https://localhost:8080/"
        },
        "id": "FjHYiOqYBifK",
        "outputId": "98f165bd-dc5d-4f77-9f12-b9fb1d5a0eb5"
      },
      "outputs": [
        {
          "name": "stdout",
          "output_type": "stream",
          "text": [
            "(26, 64, 64, 64)\n",
            "(26, 64, 64, 64)\n",
            "[0 1 2 3 4 5 6 7]\n"
          ]
        }
      ],
      "source": [
        "print(y_pred_argmax.shape)\n",
        "print(y_test_argmax.shape)\n",
        "print(np.unique(y_pred_argmax))"
      ]
    },
    {
      "cell_type": "code",
      "execution_count": 35,
      "metadata": {
        "id": "3lv4EhPCHsrz"
      },
      "outputs": [
        {
          "name": "stdout",
          "output_type": "stream",
          "text": [
            "Mean IoU = 0.122231014\n"
          ]
        }
      ],
      "source": [
        "# Using built in keras function for IoU\n",
        "# Only works on TF > 2.0\n",
        "from keras.metrics import MeanIoU\n",
        "from keras.metrics import MeanIoU\n",
        "n_classes = 8\n",
        "IOU_keras = MeanIoU(num_classes=n_classes)\n",
        "IOU_keras.update_state(y_test_argmax, y_pred_argmax)\n",
        "print(\"Mean IoU =\", IOU_keras.result().numpy())"
      ]
    },
    {
      "cell_type": "code",
      "execution_count": 36,
      "metadata": {
        "colab": {
          "base_uri": "https://localhost:8080/"
        },
        "id": "BPcRSfobCBrE",
        "outputId": "797892a3-69cd-4e15-802f-a34e16a4009c"
      },
      "outputs": [
        {
          "name": "stdout",
          "output_type": "stream",
          "text": [
            "(64, 64, 64)\n"
          ]
        }
      ],
      "source": [
        "#Test some random images\n",
        "import random\n",
        "test_img_number = random.randint(0, len(X_test))\n",
        "test_img = X_test[test_img_number]\n",
        "ground_truth=y_test[test_img_number]\n",
        "\n",
        "test_img_input=np.expand_dims(test_img, 0)\n",
        "test_img_input1 = preprocess_input(test_img_input)\n",
        "\n",
        "test_pred1 = my_model.predict(test_img_input1)\n",
        "test_prediction1 = np.argmax(test_pred1, axis=4)[0,:,:,:]\n",
        "print(test_prediction1.shape)\n",
        "\n",
        "\n"
      ]
    },
    {
      "cell_type": "code",
      "execution_count": 37,
      "metadata": {
        "colab": {
          "base_uri": "https://localhost:8080/"
        },
        "id": "KGQr-RxdFYuF",
        "outputId": "16b71368-f07e-4132-dbbf-192067d10a8d"
      },
      "outputs": [
        {
          "name": "stdout",
          "output_type": "stream",
          "text": [
            "(64, 64, 64, 3)\n"
          ]
        }
      ],
      "source": [
        "ground_truth_argmax = np.argmax(ground_truth, axis=3)\n",
        "print(test_img.shape)"
      ]
    },
    {
      "cell_type": "code",
      "execution_count": 38,
      "metadata": {
        "colab": {
          "base_uri": "https://localhost:8080/",
          "height": 356
        },
        "id": "7W9XsGK7FMuN",
        "outputId": "6a94b641-da93-45aa-af49-8b40599bc937"
      },
      "outputs": [
        {
          "data": {
            "image/png": "[encoded data removed]",
            "text/plain": [
              "<Figure size 864x576 with 3 Axes>"
            ]
          },
          "metadata": {
            "needs_background": "light"
          },
          "output_type": "display_data"
        }
      ],
      "source": [
        "#Plot individual slices from test predictions for verification\n",
        "slice = 31\n",
        "slice1 = 31\n",
        "slice2 = 31\n",
        "plt.figure(figsize=(12, 8))\n",
        "plt.subplot(231)\n",
        "plt.title('Testing Image')\n",
        "plt.imshow(test_img[slice1,:slice2,:,0], cmap='gray')\n",
        "plt.subplot(232)\n",
        "plt.title('Testing Label')\n",
        "plt.imshow(ground_truth_argmax[slice,:slice2,:])\n",
        "plt.subplot(233)\n",
        "plt.title('Prediction on test image')\n",
        "plt.imshow(test_prediction1[slice,:slice2,:])\n",
        "plt.show()"
      ]
    },
    {
      "cell_type": "markdown",
      "metadata": {
        "id": "CNi7_zeC7SmG"
      },
      "source": [
        "Now segment the full volume using the trained model."
      ]
    },
    {
      "cell_type": "code",
      "execution_count": 40,
      "metadata": {
        "colab": {
          "base_uri": "https://localhost:8080/"
        },
        "id": "C1eYttiN7tH4",
        "outputId": "0d92dc83-00e4-440b-c6b5-bd9c4d3716ba"
      },
      "outputs": [
        {
          "name": "stdout",
          "output_type": "stream",
          "text": [
            "imageshpae:  (512, 512, 192)\n",
            "(512, 512, 192)\n",
            "(8, 8, 3, 64, 64, 64)\n"
          ]
        }
      ],
      "source": [
        "large_image_path = '/home/chae/segmentation/result_image/resized_mri_image.nii.gz'\n",
        "large_image_obj = nib.load(large_image_path)\n",
        "large_image_data = large_image_obj.get_fdata()\n",
        "print(\"imageshpae: \",large_image_data.shape)\n",
        "img_patches = patchify(large_image_data, (patch_size,patch_size,patch_size), step=stepsize)  #Step=64 for 64 patches means no overlap\n",
        "print(large_image_data.shape)\n",
        "print(img_patches.shape)"
      ]
    },
    {
      "cell_type": "code",
      "execution_count": null,
      "metadata": {},
      "outputs": [],
      "source": [
        "# import numpy as np\n",
        "# import nibabel as nib\n",
        "# from patchify import patchify, unpatchify\n",
        "\n",
        "# # 원본 이미지 데이터 로드\n",
        "# image_path = '/home/chae/segmentation/dataset/ct_train/ct_train_1001_image.nii.gz'\n",
        "# image_obj = nib.load(image_path)\n",
        "# image_data = image_obj.get_fdata()\n",
        "\n",
        "# # 원본 이미지 크기\n",
        "# original_shape = image_data.shape\n",
        "\n",
        "# # 패치 크기\n",
        "# patch_size = 64\n",
        "\n",
        "# # 필요한 패딩 계산\n",
        "# padding = [(0, PS - (dim % PS)) for dim, PS in zip(original_shape, (patch_size, patch_size, patch_size))]\n",
        "# padding = [(pad[0], max(pad[1], 0)) for pad in padding]  # 음수 패딩 방지\n",
        "\n",
        "# # 이미지에 패딩 추가\n",
        "# padded_image = np.pad(image_data, padding, mode='constant', constant_values=0)\n",
        "\n",
        "# # 패딩된 이미지로 패치 생성\n",
        "# img_patches = patchify(padded_image, (patch_size, patch_size, patch_size), step=patch_size)\n",
        "\n",
        "# # 여기서 모델을 사용하여 예측을 수행하고, 예측된 패치를 얻습니다.\n",
        "# # 예측된 패치를 재구성\n",
        "# reconstructed_image = unpatchify(img_patches, padded_image.shape)\n",
        "\n",
        "# # 원본 이미지 크기로 잘라내기\n",
        "# reconstructed_image = reconstructed_image[:original_shape[0], :original_shape[1], :original_shape[2]]\n",
        "\n",
        "# # 결과 확인\n",
        "# print(\"Reconstructed image shape:\", reconstructed_image.shape)\n",
        "# print(\"padded_image shape:\", padded_image.shape)\n"
      ]
    },
    {
      "cell_type": "code",
      "execution_count": 41,
      "metadata": {
        "id": "G6KXGtea89wi"
      },
      "outputs": [],
      "source": [
        "# Predict each 3D patch\n",
        "predicted_patches = []\n",
        "for i in range(img_patches.shape[0]):\n",
        "  for j in range(img_patches.shape[1]):\n",
        "    for k in range(img_patches.shape[2]):\n",
        "      #print(i,j,k)\n",
        "      single_patch = img_patches[i,j,k, :,:,:]\n",
        "      single_patch_3ch = np.stack((single_patch,)*3, axis=-1)\n",
        "      single_patch_3ch_input = preprocess_input(np.expand_dims(single_patch_3ch, axis=0))\n",
        "      single_patch_prediction = my_model.predict(single_patch_3ch_input)\n",
        "      single_patch_prediction_argmax = np.argmax(single_patch_prediction, axis=4)[0,:,:,:]\n",
        "      predicted_patches.append(single_patch_prediction_argmax)\n",
        "\n"
      ]
    },
    {
      "cell_type": "code",
      "execution_count": 42,
      "metadata": {
        "colab": {
          "base_uri": "https://localhost:8080/"
        },
        "id": "yxX9vrPMAvK2",
        "outputId": "50ba5409-2f56-42a2-b0c3-1c2dae961e29"
      },
      "outputs": [
        {
          "name": "stdout",
          "output_type": "stream",
          "text": [
            "(192, 64, 64, 64)\n"
          ]
        }
      ],
      "source": [
        "#Convert list to numpy array\n",
        "predicted_patches = np.array(predicted_patches)\n",
        "print(predicted_patches.shape)"
      ]
    },
    {
      "cell_type": "code",
      "execution_count": 43,
      "metadata": {
        "colab": {
          "base_uri": "https://localhost:8080/"
        },
        "id": "qYQi_STcA6gw",
        "outputId": "3e471418-713e-45e9-e8c0-4542e3c2b627"
      },
      "outputs": [
        {
          "name": "stdout",
          "output_type": "stream",
          "text": [
            "(8, 8, 3, 64, 64, 64)\n"
          ]
        }
      ],
      "source": [
        "#Reshape to the shape we had after patchifying\n",
        "predicted_patches_reshaped = np.reshape(predicted_patches,\n",
        "                                        (img_patches.shape[0], img_patches.shape[1], img_patches.shape[2],\n",
        "                                         img_patches.shape[3], img_patches.shape[4], img_patches.shape[5]) )\n",
        "print(predicted_patches_reshaped.shape)"
      ]
    },
    {
      "cell_type": "code",
      "execution_count": 44,
      "metadata": {},
      "outputs": [
        {
          "name": "stdout",
          "output_type": "stream",
          "text": [
            "(512, 512, 192)\n"
          ]
        }
      ],
      "source": [
        "#Repach individual patches into the orginal volume shape\n",
        "reconstructed_image = unpatchify(predicted_patches_reshaped, large_image_data.shape)\n",
        "print(reconstructed_image.shape)"
      ]
    },
    {
      "cell_type": "code",
      "execution_count": null,
      "metadata": {
        "colab": {
          "base_uri": "https://localhost:8080/"
        },
        "id": "SQcYSuaeBP2i",
        "outputId": "cd6b0200-bfdd-4783-9bb8-f3fb5d35da2a"
      },
      "outputs": [],
      "source": [
        "# #when size unfit\n",
        "# import numpy as np\n",
        "# from patchify import unpatchify\n",
        "\n",
        "# # 예시: predicted_patches_reshaped의 형태가 (8, 8, 5, 64, 64, 64)\n",
        "# # 세 번째 차원(5)에서 마지막 패치를 제외하고 나머지 패치를 사용합니다.\n",
        "# desired_shape = (512, 512, 160)\n",
        "# reconstructed_image_resized = np.zeros(desired_shape)\n",
        "# reconstructed_image_resized[:,:,:] = large_image_data[:,:,:160]\n",
        "\n",
        "# # 마지막 패치를 제외한 패치 배열을 선택\n",
        "# selected_patches = predicted_patches_reshaped[:, :, :, :, :, :]\n",
        "\n",
        "# # 재구성된 이미지 생성\n",
        "# # large_image_data.shape는 원본 이미지의 크기를 나타냅니다.\n",
        "# reconstructed_image = unpatchify(selected_patches, reconstructed_image_resized.shape)\n",
        "\n",
        "# print(\"Reconstructed image shape:\", reconstructed_image.shape)\n"
      ]
    },
    {
      "cell_type": "code",
      "execution_count": 45,
      "metadata": {
        "colab": {
          "base_uri": "https://localhost:8080/"
        },
        "id": "rFF2FwCGDR1A",
        "outputId": "d68a302d-7063-41aa-8984-167f3c3e2725"
      },
      "outputs": [
        {
          "name": "stdout",
          "output_type": "stream",
          "text": [
            "int64\n"
          ]
        }
      ],
      "source": [
        "print(reconstructed_image.dtype)"
      ]
    },
    {
      "cell_type": "code",
      "execution_count": 46,
      "metadata": {
        "colab": {
          "base_uri": "https://localhost:8080/"
        },
        "id": "6VF_g8oLDjKp",
        "outputId": "e130b2d2-eb08-4238-da26-b3f43340a2c9"
      },
      "outputs": [
        {
          "name": "stdout",
          "output_type": "stream",
          "text": [
            "uint8\n"
          ]
        }
      ],
      "source": [
        "#Convert to uint8 so we can open image in most image viewing software packages\n",
        "reconstructed_image=reconstructed_image.astype(np.uint8)\n",
        "print(reconstructed_image.dtype)"
      ]
    },
    {
      "cell_type": "code",
      "execution_count": 47,
      "metadata": {
        "id": "OdjWCDYoKLgM"
      },
      "outputs": [
        {
          "name": "stdout",
          "output_type": "stream",
          "text": [
            "Segmented NIfTI file saved at: /home/chae/segmentation/result_image/mr_segmented.nii\n"
          ]
        }
      ],
      "source": [
        "import os\n",
        "original_nii = nib.load('/home/chae/segmentation/dataset/mr_train/mr_train_1001_image.nii.gz')\n",
        "\n",
        "# 재구성된 이미지를 NIfTI 형식으로 저장\n",
        "new_nii = nib.Nifti1Image(reconstructed_image, original_nii.affine, original_nii.header)\n",
        "\n",
        "# 저장할 경로 지정\n",
        "save_path = '/home/chae/segmentation/result_image/'\n",
        "\n",
        "# 해당 경로에 폴더가 없으면 생성\n",
        "if not os.path.exists(save_path):\n",
        "    os.makedirs(save_path)\n",
        "\n",
        "# 파일 저장\n",
        "nib.save(new_nii, os.path.join(save_path, 'mr_multi_segmented.nii'))\n",
        "\n",
        "print(\"Segmented NIfTI file saved at:\", os.path.join(save_path, 'mr_multi_segmented.nii'))"
      ]
    },
    {
      "cell_type": "code",
      "execution_count": null,
      "metadata": {
        "id": "SsBu290SNNSD"
      },
      "outputs": [],
      "source": [
        "#If you would like to save the volume as multichannel dataset...."
      ]
    },
    {
      "cell_type": "code",
      "execution_count": null,
      "metadata": {
        "colab": {
          "base_uri": "https://localhost:8080/"
        },
        "id": "EMFGGwT8FpEl",
        "outputId": "847f4ff4-652b-4c3f-8df6-4a04aba4d3b8"
      },
      "outputs": [
        {
          "name": "stdout",
          "output_type": "stream",
          "text": [
            "[0]\n"
          ]
        }
      ],
      "source": [
        "print(np.unique(reconstructed_image))"
      ]
    },
    {
      "cell_type": "code",
      "execution_count": null,
      "metadata": {
        "id": "USCSJT4rGBDt"
      },
      "outputs": [],
      "source": [
        "# #Seperate each channel/segment to be combined as multiple channels.\n",
        "# num_segments=4\n",
        "# segm0 = (reconstructed_image == 0)\n",
        "# segm1 = (reconstructed_image == 1)\n",
        "# segm2 = (reconstructed_image == 2)\n",
        "# segm3 = (reconstructed_image == 3)\n",
        "\n",
        "# final = np.empty((reconstructed_image.shape[0], reconstructed_image.shape[1], reconstructed_image.shape[2], num_segments))\n",
        "# final[:,:,:,0] = segm0\n",
        "# final[:,:,:,1] = segm1\n",
        "# final[:,:,:,2] = segm2\n",
        "# final[:,:,:,3] = segm3"
      ]
    },
    {
      "cell_type": "code",
      "execution_count": null,
      "metadata": {
        "colab": {
          "base_uri": "https://localhost:8080/"
        },
        "id": "F4ZfPm41J4yk",
        "outputId": "179b1278-066f-4066-a11d-b7f3c2aa7972"
      },
      "outputs": [],
      "source": [
        "# #Use APEER OMETIFF library to read and write multidimensional images\n",
        "# !pip install imagecodecs==2020.5.30\n",
        "# !pip install --upgrade setuptools wheel\n",
        "# !pip install apeer-ometiff-library --no-deps\n"
      ]
    },
    {
      "cell_type": "code",
      "execution_count": null,
      "metadata": {
        "id": "enE_X9SCJoYA"
      },
      "outputs": [],
      "source": [
        "# from apeer_ometiff_library import io"
      ]
    },
    {
      "cell_type": "code",
      "execution_count": null,
      "metadata": {
        "id": "bj0QC8OWINAD"
      },
      "outputs": [],
      "source": [
        "# # Expand image array to 5D of order (T, Z, C, X, Y)\n",
        "# # This is the convention for OMETIFF format as written by APEER library\n",
        "# final = np.expand_dims(final, axis=0)\n",
        "# final=np.swapaxes(final, 2, 4)\n",
        "\n",
        "# final = final.astype(np.int8)\n",
        "\n"
      ]
    },
    {
      "cell_type": "code",
      "execution_count": null,
      "metadata": {
        "id": "StgpqkJbIa2F"
      },
      "outputs": [],
      "source": [
        "# print(\"Shape of the segmented volume is: T, Z, C, X, Y \", final.shape)\n",
        "# print(final.dtype)\n"
      ]
    },
    {
      "cell_type": "code",
      "execution_count": null,
      "metadata": {
        "id": "oT2L6880WY1k"
      },
      "outputs": [],
      "source": [
        "# # Write dataset as multi-dimensional OMETIFF *image*\n",
        "# io.write_ometiff(\"/content/drive/MyDrive/Colab Notebooks/data/sandstone_3d/all_images/segmented_multi_channel.ome.tiff\", final)"
      ]
    }
  ],
  "metadata": {
    "accelerator": "GPU",
    "colab": {
      "provenance": []
    },
    "kernelspec": {
      "display_name": "Python 3",
      "name": "python3"
    },
    "language_info": {
      "codemirror_mode": {
        "name": "ipython",
        "version": 3
      },
      "file_extension": ".py",
      "mimetype": "text/x-python",
      "name": "python",
      "nbconvert_exporter": "python",
      "pygments_lexer": "ipython3",
      "version": "3.7.12"
    }
  },
  "nbformat": 4,
  "nbformat_minor": 0
}
